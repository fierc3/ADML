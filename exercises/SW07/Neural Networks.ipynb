{
 "cells": [
  {
   "cell_type": "markdown",
   "metadata": {},
   "source": [
    "# Artificial Neural Networks\n",
    "In this exercise, several parts of the code are missing, which should be completed by you. "
   ]
  },
  {
   "cell_type": "code",
   "execution_count": 5,
   "metadata": {},
   "outputs": [],
   "source": [
    "import numpy as np\n",
    "import pandas as pd\n",
    "from matplotlib import pyplot as plt\n",
    "\n",
    "import sklearn\n",
    "from sklearn.linear_model import Perceptron\n",
    "from sklearn.neural_network import MLPClassifier\n",
    "from sklearn.metrics import accuracy_score, f1_score\n",
    "from sklearn.model_selection import train_test_split\n",
    "from tqdm.notebook import tqdm\n",
    "import seaborn as sns\n",
    "from sklearn.metrics import accuracy_score\n",
    "sns.set()\n",
    "\n",
    "%matplotlib inline"
   ]
  },
  {
   "cell_type": "markdown",
   "metadata": {},
   "source": [
    "## MLP for Skin disease dataset using `scikit-learn`"
   ]
  },
  {
   "cell_type": "markdown",
   "metadata": {},
   "source": [
    "Now let us apply a neural network on the skin disesase data. To reduce the training time we reduce the amount of data in our dataset."
   ]
  },
  {
   "cell_type": "code",
   "execution_count": 6,
   "metadata": {},
   "outputs": [
    {
     "data": {
      "text/html": [
       "<div>\n",
       "<style scoped>\n",
       "    .dataframe tbody tr th:only-of-type {\n",
       "        vertical-align: middle;\n",
       "    }\n",
       "\n",
       "    .dataframe tbody tr th {\n",
       "        vertical-align: top;\n",
       "    }\n",
       "\n",
       "    .dataframe thead th {\n",
       "        text-align: right;\n",
       "    }\n",
       "</style>\n",
       "<table border=\"1\" class=\"dataframe\">\n",
       "  <thead>\n",
       "    <tr style=\"text-align: right;\">\n",
       "      <th></th>\n",
       "      <th>class</th>\n",
       "      <th>t0</th>\n",
       "      <th>t1</th>\n",
       "      <th>t2</th>\n",
       "      <th>t3</th>\n",
       "      <th>t4</th>\n",
       "      <th>t5</th>\n",
       "      <th>t6</th>\n",
       "      <th>t7</th>\n",
       "      <th>t8</th>\n",
       "      <th>t9</th>\n",
       "      <th>t10</th>\n",
       "      <th>t11</th>\n",
       "      <th>t12</th>\n",
       "      <th>t13</th>\n",
       "    </tr>\n",
       "  </thead>\n",
       "  <tbody>\n",
       "    <tr>\n",
       "      <th>18595</th>\n",
       "      <td>0</td>\n",
       "      <td>0.0</td>\n",
       "      <td>1.0</td>\n",
       "      <td>148.854843</td>\n",
       "      <td>136.881622</td>\n",
       "      <td>136.502075</td>\n",
       "      <td>0.970898</td>\n",
       "      <td>0.958832</td>\n",
       "      <td>3.940685</td>\n",
       "      <td>0.845263</td>\n",
       "      <td>-0.627514</td>\n",
       "      <td>1.935074</td>\n",
       "      <td>1.260257</td>\n",
       "      <td>1.217211</td>\n",
       "      <td>4.960808</td>\n",
       "    </tr>\n",
       "    <tr>\n",
       "      <th>215838</th>\n",
       "      <td>0</td>\n",
       "      <td>0.0</td>\n",
       "      <td>1.0</td>\n",
       "      <td>143.600128</td>\n",
       "      <td>141.486252</td>\n",
       "      <td>104.843246</td>\n",
       "      <td>2.135985</td>\n",
       "      <td>3.054679</td>\n",
       "      <td>21.422846</td>\n",
       "      <td>-2.388975</td>\n",
       "      <td>-2.513810</td>\n",
       "      <td>-21.041121</td>\n",
       "      <td>3.078798</td>\n",
       "      <td>4.343002</td>\n",
       "      <td>27.046103</td>\n",
       "    </tr>\n",
       "    <tr>\n",
       "      <th>434611</th>\n",
       "      <td>0</td>\n",
       "      <td>0.0</td>\n",
       "      <td>1.0</td>\n",
       "      <td>146.094589</td>\n",
       "      <td>145.108856</td>\n",
       "      <td>153.140991</td>\n",
       "      <td>1.710095</td>\n",
       "      <td>1.765065</td>\n",
       "      <td>7.265410</td>\n",
       "      <td>1.693099</td>\n",
       "      <td>0.905624</td>\n",
       "      <td>-7.121035</td>\n",
       "      <td>2.588367</td>\n",
       "      <td>2.367739</td>\n",
       "      <td>11.046728</td>\n",
       "    </tr>\n",
       "    <tr>\n",
       "      <th>469053</th>\n",
       "      <td>0</td>\n",
       "      <td>0.0</td>\n",
       "      <td>1.0</td>\n",
       "      <td>147.475906</td>\n",
       "      <td>143.886978</td>\n",
       "      <td>140.092804</td>\n",
       "      <td>1.171563</td>\n",
       "      <td>1.795381</td>\n",
       "      <td>12.887458</td>\n",
       "      <td>0.685154</td>\n",
       "      <td>1.610793</td>\n",
       "      <td>-12.241491</td>\n",
       "      <td>1.512837</td>\n",
       "      <td>2.441238</td>\n",
       "      <td>17.298553</td>\n",
       "    </tr>\n",
       "    <tr>\n",
       "      <th>214172</th>\n",
       "      <td>0</td>\n",
       "      <td>0.0</td>\n",
       "      <td>1.0</td>\n",
       "      <td>148.494354</td>\n",
       "      <td>143.794174</td>\n",
       "      <td>123.755501</td>\n",
       "      <td>0.833631</td>\n",
       "      <td>1.102370</td>\n",
       "      <td>9.927114</td>\n",
       "      <td>-0.851710</td>\n",
       "      <td>-0.780081</td>\n",
       "      <td>-5.027682</td>\n",
       "      <td>1.270171</td>\n",
       "      <td>1.543895</td>\n",
       "      <td>11.943620</td>\n",
       "    </tr>\n",
       "  </tbody>\n",
       "</table>\n",
       "</div>"
      ],
      "text/plain": [
       "        class   t0   t1          t2          t3          t4        t5  \\\n",
       "18595       0  0.0  1.0  148.854843  136.881622  136.502075  0.970898   \n",
       "215838      0  0.0  1.0  143.600128  141.486252  104.843246  2.135985   \n",
       "434611      0  0.0  1.0  146.094589  145.108856  153.140991  1.710095   \n",
       "469053      0  0.0  1.0  147.475906  143.886978  140.092804  1.171563   \n",
       "214172      0  0.0  1.0  148.494354  143.794174  123.755501  0.833631   \n",
       "\n",
       "              t6         t7        t8        t9        t10       t11  \\\n",
       "18595   0.958832   3.940685  0.845263 -0.627514   1.935074  1.260257   \n",
       "215838  3.054679  21.422846 -2.388975 -2.513810 -21.041121  3.078798   \n",
       "434611  1.765065   7.265410  1.693099  0.905624  -7.121035  2.588367   \n",
       "469053  1.795381  12.887458  0.685154  1.610793 -12.241491  1.512837   \n",
       "214172  1.102370   9.927114 -0.851710 -0.780081  -5.027682  1.270171   \n",
       "\n",
       "             t12        t13  \n",
       "18595   1.217211   4.960808  \n",
       "215838  4.343002  27.046103  \n",
       "434611  2.367739  11.046728  \n",
       "469053  2.441238  17.298553  \n",
       "214172  1.543895  11.943620  "
      ]
     },
     "execution_count": 6,
     "metadata": {},
     "output_type": "execute_result"
    }
   ],
   "source": [
    "df = pd.read_csv(\"skin_disease.csv\")\n",
    "df = df.sample(frac=1)\n",
    "df = df.iloc[0:100000]\n",
    "df.head()"
   ]
  },
  {
   "cell_type": "code",
   "execution_count": 7,
   "metadata": {},
   "outputs": [],
   "source": [
    "X = df.drop(columns=[\"class\"])\n",
    "y = df[\"class\"]"
   ]
  },
  {
   "cell_type": "markdown",
   "metadata": {},
   "source": [
    "> Split the data into a train and test set. Use 40% of the data for the test set."
   ]
  },
  {
   "cell_type": "code",
   "execution_count": null,
   "metadata": {
    "solution2": "hidden",
    "solution2_first": true
   },
   "outputs": [],
   "source": []
  },
  {
   "cell_type": "code",
   "execution_count": 8,
   "metadata": {
    "solution2": "hidden"
   },
   "outputs": [],
   "source": [
    "X_train, X_test, y_train, y_test = train_test_split(X, y, test_size=0.4, random_state=42)"
   ]
  },
  {
   "cell_type": "markdown",
   "metadata": {},
   "source": [
    "We define our Multi Layer Perceptron with 2 hidden layers. This time we use the [MLPClassifier](https://scikit-learn.org/stable/modules/generated/sklearn.neural_network.MLPClassifier.html) implementation from Scikit-Learn."
   ]
  },
  {
   "cell_type": "code",
   "execution_count": 9,
   "metadata": {},
   "outputs": [],
   "source": [
    "mlp = MLPClassifier(hidden_layer_sizes=(30,15),\n",
    "                    activation='relu',  # activation function\n",
    "                    solver='adam',  # optimizer\n",
    "                    batch_size=1024)  # size of minibatches"
   ]
  },
  {
   "cell_type": "markdown",
   "metadata": {},
   "source": [
    "> Train the neural network on `X_train`, `y_train` and plot the loss by accessing the attribute `loss_curve_`."
   ]
  },
  {
   "cell_type": "code",
   "execution_count": 10,
   "metadata": {},
   "outputs": [],
   "source": [
    "def plot_costs(costs):\n",
    "    fig, ax = plt.subplots()\n",
    "    ax.plot(costs)\n",
    "    ax.set_title(\"Loss curve\")\n",
    "    plt.show()"
   ]
  },
  {
   "cell_type": "code",
   "execution_count": null,
   "metadata": {
    "solution2": "hidden",
    "solution2_first": true
   },
   "outputs": [],
   "source": []
  },
  {
   "cell_type": "code",
   "execution_count": 11,
   "metadata": {
    "solution2": "hidden"
   },
   "outputs": [
    {
     "data": {
      "image/png": "[encoded data removed]",
      "text/plain": [
       "<Figure size 432x288 with 1 Axes>"
      ]
     },
     "metadata": {
      "needs_background": "light"
     },
     "output_type": "display_data"
    }
   ],
   "source": [
    "mlp.fit(X_train, y_train)\n",
    "plot_costs(mlp.loss_curve_)"
   ]
  },
  {
   "cell_type": "markdown",
   "metadata": {},
   "source": [
    "> Implement your own predict function. For that we'll need an activation function for the hidden layers, in our case `relu` and for the output layer `sigmoid`."
   ]
  },
  {
   "cell_type": "code",
   "execution_count": null,
   "metadata": {
    "solution2": "hidden",
    "solution2_first": true
   },
   "outputs": [],
   "source": [
    "def relu(x):\n",
    "    ### START YOUR CODE ###\n",
    "    \n",
    "    ### END YOUR CODE ###\n",
    "    pass"
   ]
  },
  {
   "cell_type": "code",
   "execution_count": 12,
   "metadata": {
    "solution2": "hidden"
   },
   "outputs": [],
   "source": [
    "def relu(x):\n",
    "    return np.maximum(0,x) #works also with just checking if value negative then equals 0"
   ]
  },
  {
   "cell_type": "code",
   "execution_count": null,
   "metadata": {
    "solution2": "hidden",
    "solution2_first": true
   },
   "outputs": [],
   "source": [
    "def sigmoid(x):\n",
    "    ### START YOUR CODE ###\n",
    "    \n",
    "    ### END YOUR CODE ###\n",
    "    pass"
   ]
  },
  {
   "cell_type": "code",
   "execution_count": 13,
   "metadata": {
    "solution2": "hidden"
   },
   "outputs": [],
   "source": [
    "def sigmoid(x):\n",
    "    return 1/(1+np.exp(-x))"
   ]
  },
  {
   "cell_type": "code",
   "execution_count": null,
   "metadata": {
    "solution2": "hidden",
    "solution2_first": true
   },
   "outputs": [],
   "source": [
    "def predict(mlp, X):\n",
    "    ### START YOUR CODE ###\n",
    "\n",
    "    # define the first activations, e.g. inputs\n",
    "    \n",
    "    # forward propagate through layers\n",
    "            \n",
    "    # last layer output activation `sigmoid`\n",
    "    \n",
    "    # transform to 1-D and threshold\n",
    "    \n",
    "    ### END YOUR CODE ###\n",
    "    \n",
    "    pass"
   ]
  },
  {
   "cell_type": "code",
   "execution_count": 14,
   "metadata": {
    "solution2": "hidden"
   },
   "outputs": [],
   "source": [
    "def predict(mlp, X):\n",
    "    # define the first activations, e.g. inputs\n",
    "    A = X\n",
    "    \n",
    "    # forward propagate through layers\n",
    "    for i, (W, B) in enumerate(zip(mlp.coefs_, mlp.intercepts_)):\n",
    "        z = A.dot(W) + B\n",
    "        # if hidden layer, apply `relu`\n",
    "        if i != mlp.n_layers_ - 2:\n",
    "            A = relu(z)\n",
    "            \n",
    "    # last layer output activation `sigmoid`\n",
    "    out = sigmoid(z)  \n",
    "    # transform to 1-D and threshold\n",
    "    out = np.squeeze(out)\n",
    "    out = np.array(out > 0.5, dtype=int)\n",
    "    \n",
    "    return out"
   ]
  },
  {
   "cell_type": "markdown",
   "metadata": {},
   "source": [
    "> Test your implementation with the scikit-learn predict function."
   ]
  },
  {
   "cell_type": "code",
   "execution_count": null,
   "metadata": {
    "solution2": "hidden",
    "solution2_first": true
   },
   "outputs": [],
   "source": [
    "# y_pred_scikit = ...\n",
    "# y_pred_own = ...\n",
    "\n",
    "# print('Are the outputs the same: %s' % ... )"
   ]
  },
  {
   "cell_type": "code",
   "execution_count": 15,
   "metadata": {
    "solution2": "hidden"
   },
   "outputs": [
    {
     "name": "stdout",
     "output_type": "stream",
     "text": [
      "Are the outputs the same: True\n"
     ]
    }
   ],
   "source": [
    "y_pred_scikit = mlp.predict(X_test)\n",
    "y_pred_own = predict(mlp, X_test.values)\n",
    "\n",
    "print('Are the outputs the same: %s' % (y_pred_scikit == y_pred_own).all())"
   ]
  },
  {
   "cell_type": "markdown",
   "metadata": {},
   "source": [
    "> Predict the values on the test set and calculate the accuracy and the f1-score."
   ]
  },
  {
   "cell_type": "code",
   "execution_count": null,
   "metadata": {
    "solution2": "hidden",
    "solution2_first": true
   },
   "outputs": [],
   "source": []
  },
  {
   "cell_type": "code",
   "execution_count": 21,
   "metadata": {
    "solution2": "hidden"
   },
   "outputs": [
    {
     "name": "stdout",
     "output_type": "stream",
     "text": [
      "{'activation': 'relu', 'alpha': 0.0001, 'batch_size': 1024, 'beta_1': 0.9, 'beta_2': 0.999, 'early_stopping': False, 'epsilon': 1e-08, 'hidden_layer_sizes': (30, 15), 'learning_rate': 'constant', 'learning_rate_init': 0.001, 'max_fun': 15000, 'max_iter': 200, 'momentum': 0.9, 'n_iter_no_change': 10, 'nesterovs_momentum': True, 'power_t': 0.5, 'random_state': None, 'shuffle': True, 'solver': 'adam', 'tol': 0.0001, 'validation_fraction': 0.1, 'verbose': False, 'warm_start': False}\n",
      "Accuracy: 0.9468\n",
      "F1: 0.6743\n"
     ]
    }
   ],
   "source": [
    "y_pred = predict(mlp, X_test.values)\n",
    "\n",
    "accuracy = accuracy_score(y_test, y_pred)\n",
    "f1 = f1_score(y_test, y_pred)\n",
    "\n",
    "print(mlp.get_params());\n",
    "\n",
    "print(\"Accuracy: %.4f\" % accuracy)\n",
    "print(\"F1: %.4f\" % f1)"
   ]
  },
  {
   "cell_type": "markdown",
   "metadata": {},
   "source": [
    "## MLP for Skin disease dataset using `TensorFlow`\n",
    "In practice, the MLP from `scikit-learn` is never used because of the lack of customisation and the absence of GPU training. `TensorFlow` is a library specialised in deep learning and therefore also has implementations for advanced techniques. Thus the section below is a quick introduction to how the same network can be implemented using `TensorFlow`. The networks' results do not need to be the same, since as mentioned above, the `scikit-learn` implementation can not be as customised as the `TensorFlow` one. \n",
    "\n",
    "If `TensorFlow` is not already installed on the environment, it can be done using the \"magic\" cell from below. If it is already installed, make sure to use version `2.3.1`. Higher versions should also work but weren't tested."
   ]
  },
  {
   "cell_type": "code",
   "execution_count": 1,
   "metadata": {
    "scrolled": true
   },
   "outputs": [
    {
     "name": "stdout",
     "output_type": "stream",
     "text": [
      "Requirement already satisfied: tensorflow==2.3.1 in c:\\users\\mike\\appdata\\roaming\\python\\python38\\site-packages (2.3.1)\n",
      "Requirement already satisfied: astunparse==1.6.3 in e:\\software\\anaconda\\lib\\site-packages (from tensorflow==2.3.1) (1.6.3)\n",
      "Requirement already satisfied: absl-py>=0.7.0 in c:\\users\\mike\\appdata\\roaming\\python\\python38\\site-packages (from tensorflow==2.3.1) (1.0.0)\n",
      "Requirement already satisfied: wrapt>=1.11.1 in e:\\software\\anaconda\\lib\\site-packages (from tensorflow==2.3.1) (1.11.2)\n",
      "Requirement already satisfied: opt-einsum>=2.3.2 in c:\\users\\mike\\appdata\\roaming\\python\\python38\\site-packages (from tensorflow==2.3.1) (3.3.0)\n",
      "Requirement already satisfied: termcolor>=1.1.0 in c:\\users\\mike\\appdata\\roaming\\python\\python38\\site-packages (from tensorflow==2.3.1) (1.1.0)\n",
      "Requirement already satisfied: six>=1.12.0 in e:\\software\\anaconda\\lib\\site-packages (from tensorflow==2.3.1) (1.15.0)\n",
      "Requirement already satisfied: wheel>=0.26 in e:\\software\\anaconda\\lib\\site-packages (from tensorflow==2.3.1) (0.35.1)\n",
      "Requirement already satisfied: tensorboard<3,>=2.3.0 in c:\\users\\mike\\appdata\\roaming\\python\\python38\\site-packages (from tensorflow==2.3.1) (2.7.0)\n",
      "Requirement already satisfied: grpcio>=1.8.6 in c:\\users\\mike\\appdata\\roaming\\python\\python38\\site-packages (from tensorflow==2.3.1) (1.41.1)\n",
      "Requirement already satisfied: gast==0.3.3 in c:\\users\\mike\\appdata\\roaming\\python\\python38\\site-packages (from tensorflow==2.3.1) (0.3.3)\n",
      "Requirement already satisfied: google-pasta>=0.1.8 in c:\\users\\mike\\appdata\\roaming\\python\\python38\\site-packages (from tensorflow==2.3.1) (0.2.0)\n",
      "Requirement already satisfied: tensorflow-estimator<2.4.0,>=2.3.0 in e:\\software\\anaconda\\lib\\site-packages (from tensorflow==2.3.1) (2.3.0)\n",
      "Requirement already satisfied: protobuf>=3.9.2 in c:\\users\\mike\\appdata\\roaming\\python\\python38\\site-packages (from tensorflow==2.3.1) (3.19.1)\n",
      "Requirement already satisfied: h5py<2.11.0,>=2.10.0 in e:\\software\\anaconda\\lib\\site-packages (from tensorflow==2.3.1) (2.10.0)\n",
      "Requirement already satisfied: keras-preprocessing<1.2,>=1.1.1 in c:\\users\\mike\\appdata\\roaming\\python\\python38\\site-packages (from tensorflow==2.3.1) (1.1.2)\n",
      "Requirement already satisfied: numpy<1.19.0,>=1.16.0 in e:\\software\\anaconda\\lib\\site-packages (from tensorflow==2.3.1) (1.18.5)\n",
      "Requirement already satisfied: setuptools>=41.0.0 in e:\\software\\anaconda\\lib\\site-packages (from tensorboard<3,>=2.3.0->tensorflow==2.3.1) (50.3.1.post20201107)\n",
      "Requirement already satisfied: werkzeug>=0.11.15 in e:\\software\\anaconda\\lib\\site-packages (from tensorboard<3,>=2.3.0->tensorflow==2.3.1) (1.0.1)\n",
      "Requirement already satisfied: tensorboard-data-server<0.7.0,>=0.6.0 in c:\\users\\mike\\appdata\\roaming\\python\\python38\\site-packages (from tensorboard<3,>=2.3.0->tensorflow==2.3.1) (0.6.1)\n",
      "Requirement already satisfied: google-auth-oauthlib<0.5,>=0.4.1 in e:\\software\\anaconda\\lib\\site-packages (from tensorboard<3,>=2.3.0->tensorflow==2.3.1) (0.4.6)\n",
      "Requirement already satisfied: tensorboard-plugin-wit>=1.6.0 in c:\\users\\mike\\appdata\\roaming\\python\\python38\\site-packages (from tensorboard<3,>=2.3.0->tensorflow==2.3.1) (1.8.0)\n",
      "Requirement already satisfied: markdown>=2.6.8 in c:\\users\\mike\\appdata\\roaming\\python\\python38\\site-packages (from tensorboard<3,>=2.3.0->tensorflow==2.3.1) (3.3.4)\n",
      "Requirement already satisfied: google-auth<3,>=1.6.3 in e:\\software\\anaconda\\lib\\site-packages (from tensorboard<3,>=2.3.0->tensorflow==2.3.1) (2.3.3)\n",
      "Requirement already satisfied: requests<3,>=2.21.0 in e:\\software\\anaconda\\lib\\site-packages (from tensorboard<3,>=2.3.0->tensorflow==2.3.1) (2.24.0)\n",
      "Requirement already satisfied: requests-oauthlib>=0.7.0 in e:\\software\\anaconda\\lib\\site-packages (from google-auth-oauthlib<0.5,>=0.4.1->tensorboard<3,>=2.3.0->tensorflow==2.3.1) (1.3.0)\n",
      "Requirement already satisfied: cachetools<5.0,>=2.0.0 in e:\\software\\anaconda\\lib\\site-packages (from google-auth<3,>=1.6.3->tensorboard<3,>=2.3.0->tensorflow==2.3.1) (4.2.4)\n",
      "Requirement already satisfied: pyasn1-modules>=0.2.1 in e:\\software\\anaconda\\lib\\site-packages (from google-auth<3,>=1.6.3->tensorboard<3,>=2.3.0->tensorflow==2.3.1) (0.2.8)\n",
      "Requirement already satisfied: rsa<5,>=3.1.4; python_version >= \"3.6\" in e:\\software\\anaconda\\lib\\site-packages (from google-auth<3,>=1.6.3->tensorboard<3,>=2.3.0->tensorflow==2.3.1) (4.7.2)\n",
      "Requirement already satisfied: idna<3,>=2.5 in e:\\software\\anaconda\\lib\\site-packages (from requests<3,>=2.21.0->tensorboard<3,>=2.3.0->tensorflow==2.3.1) (2.10)\n",
      "Requirement already satisfied: urllib3!=1.25.0,!=1.25.1,<1.26,>=1.21.1 in e:\\software\\anaconda\\lib\\site-packages (from requests<3,>=2.21.0->tensorboard<3,>=2.3.0->tensorflow==2.3.1) (1.25.11)\n",
      "Requirement already satisfied: chardet<4,>=3.0.2 in e:\\software\\anaconda\\lib\\site-packages (from requests<3,>=2.21.0->tensorboard<3,>=2.3.0->tensorflow==2.3.1) (3.0.4)\n",
      "Requirement already satisfied: certifi>=2017.4.17 in e:\\software\\anaconda\\lib\\site-packages (from requests<3,>=2.21.0->tensorboard<3,>=2.3.0->tensorflow==2.3.1) (2020.6.20)\n",
      "Requirement already satisfied: oauthlib>=3.0.0 in e:\\software\\anaconda\\lib\\site-packages (from requests-oauthlib>=0.7.0->google-auth-oauthlib<0.5,>=0.4.1->tensorboard<3,>=2.3.0->tensorflow==2.3.1) (3.1.1)\n",
      "Requirement already satisfied: pyasn1<0.5.0,>=0.4.6 in e:\\software\\anaconda\\lib\\site-packages (from pyasn1-modules>=0.2.1->google-auth<3,>=1.6.3->tensorboard<3,>=2.3.0->tensorflow==2.3.1) (0.4.8)\n"
     ]
    }
   ],
   "source": [
    "!pip install tensorflow==2.3.1 --user"
   ]
  },
  {
   "cell_type": "code",
   "execution_count": 2,
   "metadata": {},
   "outputs": [],
   "source": [
    "import tensorflow as tf\n",
    "\n",
    "assert tf.__version__ == '2.3.1'"
   ]
  },
  {
   "cell_type": "markdown",
   "metadata": {},
   "source": [
    "A model in `TensorFlow` can be implemented using the `Sequential API`, which enables for easy extensibility by calling `.add()`. To implement the same MLP as above, we can sequentially add `Dense` layers to the model. Here the customization possibilities compared to `scikit-learn` is evident. For example, the activation function can be set for each layer separately, which was impossible before."
   ]
  },
  {
   "cell_type": "code",
   "execution_count": 17,
   "metadata": {},
   "outputs": [
    {
     "name": "stdout",
     "output_type": "stream",
     "text": [
      "Model: \"sequential\"\n",
      "_________________________________________________________________\n",
      "Layer (type)                 Output Shape              Param #   \n",
      "=================================================================\n",
      "dense (Dense)                (None, 30)                450       \n",
      "_________________________________________________________________\n",
      "dense_1 (Dense)              (None, 15)                465       \n",
      "_________________________________________________________________\n",
      "dense_2 (Dense)              (None, 1)                 16        \n",
      "=================================================================\n",
      "Total params: 931\n",
      "Trainable params: 931\n",
      "Non-trainable params: 0\n",
      "_________________________________________________________________\n"
     ]
    }
   ],
   "source": [
    "dataset_dim = X_train.shape[1]\n",
    "\n",
    "model = tf.keras.models.Sequential()\n",
    "model.add(tf.keras.layers.Dense(30, input_shape=(dataset_dim, ), activation='relu'))\n",
    "model.add(tf.keras.layers.Dense(15, activation='relu'))\n",
    "model.add(tf.keras.layers.Dense(1, activation='sigmoid'))\n",
    "model.summary()"
   ]
  },
  {
   "cell_type": "markdown",
   "metadata": {},
   "source": [
    "After defining the model, it needs to be compiled using an optimizer and loss function. In our case, we'll use adam as optimizer and binary cross-entropy as loss. Now the model can be trained by specifying the number of epochs and the batch size. "
   ]
  },
  {
   "cell_type": "code",
   "execution_count": 18,
   "metadata": {},
   "outputs": [
    {
     "name": "stdout",
     "output_type": "stream",
     "text": [
      "Epoch 1/150\n",
      "59/59 [==============================] - 0s 831us/step - loss: 2.0431 - accuracy: 0.7666\n",
      "Epoch 2/150\n",
      "59/59 [==============================] - 0s 915us/step - loss: 0.3863 - accuracy: 0.8850\n",
      "Epoch 3/150\n",
      "59/59 [==============================] - 0s 864us/step - loss: 0.3196 - accuracy: 0.9056\n",
      "Epoch 4/150\n",
      "59/59 [==============================] - 0s 831us/step - loss: 0.2912 - accuracy: 0.9056\n",
      "Epoch 5/150\n",
      "59/59 [==============================] - 0s 831us/step - loss: 0.2680 - accuracy: 0.9056\n",
      "Epoch 6/150\n",
      "59/59 [==============================] - 0s 932us/step - loss: 0.2478 - accuracy: 0.9056\n",
      "Epoch 7/150\n",
      "59/59 [==============================] - 0s 898us/step - loss: 0.2315 - accuracy: 0.9067\n",
      "Epoch 8/150\n",
      "59/59 [==============================] - 0s 814us/step - loss: 0.2208 - accuracy: 0.9108\n",
      "Epoch 9/150\n",
      "59/59 [==============================] - 0s 814us/step - loss: 0.2130 - accuracy: 0.9139\n",
      "Epoch 10/150\n",
      "59/59 [==============================] - 0s 814us/step - loss: 0.2073 - accuracy: 0.9154\n",
      "Epoch 11/150\n",
      "59/59 [==============================] - 0s 814us/step - loss: 0.2042 - accuracy: 0.9165\n",
      "Epoch 12/150\n",
      "59/59 [==============================] - 0s 814us/step - loss: 0.2000 - accuracy: 0.9173\n",
      "Epoch 13/150\n",
      "59/59 [==============================] - 0s 830us/step - loss: 0.1976 - accuracy: 0.9184\n",
      "Epoch 14/150\n",
      "59/59 [==============================] - 0s 898us/step - loss: 0.1960 - accuracy: 0.9198\n",
      "Epoch 15/150\n",
      "59/59 [==============================] - 0s 831us/step - loss: 0.1945 - accuracy: 0.9207\n",
      "Epoch 16/150\n",
      "59/59 [==============================] - 0s 797us/step - loss: 0.1929 - accuracy: 0.9211\n",
      "Epoch 17/150\n",
      "59/59 [==============================] - 0s 814us/step - loss: 0.1905 - accuracy: 0.9228\n",
      "Epoch 18/150\n",
      "59/59 [==============================] - 0s 814us/step - loss: 0.1898 - accuracy: 0.9235\n",
      "Epoch 19/150\n",
      "59/59 [==============================] - 0s 797us/step - loss: 0.1882 - accuracy: 0.9235\n",
      "Epoch 20/150\n",
      "59/59 [==============================] - 0s 847us/step - loss: 0.1873 - accuracy: 0.9240\n",
      "Epoch 21/150\n",
      "59/59 [==============================] - 0s 881us/step - loss: 0.1860 - accuracy: 0.9247\n",
      "Epoch 22/150\n",
      "59/59 [==============================] - 0s 797us/step - loss: 0.1850 - accuracy: 0.9249\n",
      "Epoch 23/150\n",
      "59/59 [==============================] - 0s 814us/step - loss: 0.1847 - accuracy: 0.9244\n",
      "Epoch 24/150\n",
      "59/59 [==============================] - 0s 831us/step - loss: 0.1833 - accuracy: 0.9249\n",
      "Epoch 25/150\n",
      "59/59 [==============================] - 0s 814us/step - loss: 0.1823 - accuracy: 0.9250\n",
      "Epoch 26/150\n",
      "59/59 [==============================] - 0s 780us/step - loss: 0.1809 - accuracy: 0.9262\n",
      "Epoch 27/150\n",
      "59/59 [==============================] - 0s 814us/step - loss: 0.1805 - accuracy: 0.9257\n",
      "Epoch 28/150\n",
      "59/59 [==============================] - 0s 797us/step - loss: 0.1804 - accuracy: 0.9260\n",
      "Epoch 29/150\n",
      "59/59 [==============================] - 0s 797us/step - loss: 0.1784 - accuracy: 0.9264\n",
      "Epoch 30/150\n",
      "59/59 [==============================] - 0s 780us/step - loss: 0.1775 - accuracy: 0.9267\n",
      "Epoch 31/150\n",
      "59/59 [==============================] - 0s 831us/step - loss: 0.1762 - accuracy: 0.9269\n",
      "Epoch 32/150\n",
      "59/59 [==============================] - 0s 847us/step - loss: 0.1756 - accuracy: 0.9275\n",
      "Epoch 33/150\n",
      "59/59 [==============================] - 0s 814us/step - loss: 0.1747 - accuracy: 0.9275\n",
      "Epoch 34/150\n",
      "59/59 [==============================] - 0s 814us/step - loss: 0.1738 - accuracy: 0.9278\n",
      "Epoch 35/150\n",
      "59/59 [==============================] - 0s 780us/step - loss: 0.1734 - accuracy: 0.9282\n",
      "Epoch 36/150\n",
      "59/59 [==============================] - 0s 814us/step - loss: 0.1721 - accuracy: 0.9285\n",
      "Epoch 37/150\n",
      "59/59 [==============================] - 0s 797us/step - loss: 0.1707 - accuracy: 0.9291\n",
      "Epoch 38/150\n",
      "59/59 [==============================] - 0s 814us/step - loss: 0.1713 - accuracy: 0.9290\n",
      "Epoch 39/150\n",
      "59/59 [==============================] - 0s 763us/step - loss: 0.1682 - accuracy: 0.9294\n",
      "Epoch 40/150\n",
      "59/59 [==============================] - 0s 814us/step - loss: 0.1678 - accuracy: 0.9301\n",
      "Epoch 41/150\n",
      "59/59 [==============================] - 0s 763us/step - loss: 0.1671 - accuracy: 0.9309\n",
      "Epoch 42/150\n",
      "59/59 [==============================] - 0s 797us/step - loss: 0.1667 - accuracy: 0.9310\n",
      "Epoch 43/150\n",
      "59/59 [==============================] - 0s 814us/step - loss: 0.1652 - accuracy: 0.9309\n",
      "Epoch 44/150\n",
      "59/59 [==============================] - 0s 814us/step - loss: 0.1641 - accuracy: 0.9316\n",
      "Epoch 45/150\n",
      "59/59 [==============================] - 0s 797us/step - loss: 0.1640 - accuracy: 0.9319\n",
      "Epoch 46/150\n",
      "59/59 [==============================] - 0s 814us/step - loss: 0.1633 - accuracy: 0.9323\n",
      "Epoch 47/150\n",
      "59/59 [==============================] - 0s 814us/step - loss: 0.1626 - accuracy: 0.9328\n",
      "Epoch 48/150\n",
      "59/59 [==============================] - 0s 763us/step - loss: 0.1611 - accuracy: 0.9331\n",
      "Epoch 49/150\n",
      "59/59 [==============================] - 0s 814us/step - loss: 0.1616 - accuracy: 0.9335\n",
      "Epoch 50/150\n",
      "59/59 [==============================] - 0s 780us/step - loss: 0.1618 - accuracy: 0.9334\n",
      "Epoch 51/150\n",
      "59/59 [==============================] - 0s 847us/step - loss: 0.1603 - accuracy: 0.9340\n",
      "Epoch 52/150\n",
      "59/59 [==============================] - 0s 780us/step - loss: 0.1591 - accuracy: 0.9346\n",
      "Epoch 53/150\n",
      "59/59 [==============================] - 0s 814us/step - loss: 0.1589 - accuracy: 0.9348\n",
      "Epoch 54/150\n",
      "59/59 [==============================] - 0s 780us/step - loss: 0.1572 - accuracy: 0.9351\n",
      "Epoch 55/150\n",
      "59/59 [==============================] - 0s 1ms/step - loss: 0.1581 - accuracy: 0.9349\n",
      "Epoch 56/150\n",
      "59/59 [==============================] - 0s 932us/step - loss: 0.1588 - accuracy: 0.9349\n",
      "Epoch 57/150\n",
      "59/59 [==============================] - 0s 831us/step - loss: 0.1559 - accuracy: 0.9362\n",
      "Epoch 58/150\n",
      "59/59 [==============================] - 0s 847us/step - loss: 0.1554 - accuracy: 0.9363\n",
      "Epoch 59/150\n",
      "59/59 [==============================] - 0s 797us/step - loss: 0.1541 - accuracy: 0.9366\n",
      "Epoch 60/150\n",
      "59/59 [==============================] - 0s 797us/step - loss: 0.1542 - accuracy: 0.9370\n",
      "Epoch 61/150\n",
      "59/59 [==============================] - 0s 814us/step - loss: 0.1553 - accuracy: 0.9367\n",
      "Epoch 62/150\n",
      "59/59 [==============================] - 0s 847us/step - loss: 0.1537 - accuracy: 0.9373\n",
      "Epoch 63/150\n",
      "59/59 [==============================] - 0s 797us/step - loss: 0.1534 - accuracy: 0.9377\n",
      "Epoch 64/150\n",
      "59/59 [==============================] - 0s 814us/step - loss: 0.1525 - accuracy: 0.9380\n",
      "Epoch 65/150\n",
      "59/59 [==============================] - 0s 797us/step - loss: 0.1533 - accuracy: 0.9374\n",
      "Epoch 66/150\n",
      "59/59 [==============================] - 0s 847us/step - loss: 0.1556 - accuracy: 0.9367\n",
      "Epoch 67/150\n",
      "59/59 [==============================] - 0s 797us/step - loss: 0.1517 - accuracy: 0.9381\n",
      "Epoch 68/150\n",
      "59/59 [==============================] - 0s 814us/step - loss: 0.1523 - accuracy: 0.9376\n",
      "Epoch 69/150\n",
      "59/59 [==============================] - 0s 780us/step - loss: 0.1532 - accuracy: 0.9375\n",
      "Epoch 70/150\n",
      "59/59 [==============================] - 0s 814us/step - loss: 0.1515 - accuracy: 0.9386\n",
      "Epoch 71/150\n",
      "59/59 [==============================] - 0s 814us/step - loss: 0.1508 - accuracy: 0.9394\n",
      "Epoch 72/150\n",
      "59/59 [==============================] - 0s 780us/step - loss: 0.1514 - accuracy: 0.9386\n",
      "Epoch 73/150\n",
      "59/59 [==============================] - 0s 797us/step - loss: 0.1520 - accuracy: 0.9392\n",
      "Epoch 74/150\n",
      "59/59 [==============================] - 0s 797us/step - loss: 0.1535 - accuracy: 0.9385\n",
      "Epoch 75/150\n",
      "59/59 [==============================] - 0s 814us/step - loss: 0.1504 - accuracy: 0.9392\n",
      "Epoch 76/150\n",
      "59/59 [==============================] - 0s 763us/step - loss: 0.1490 - accuracy: 0.9398\n",
      "Epoch 77/150\n",
      "59/59 [==============================] - 0s 814us/step - loss: 0.1498 - accuracy: 0.9396\n",
      "Epoch 78/150\n",
      "59/59 [==============================] - 0s 814us/step - loss: 0.1494 - accuracy: 0.9389\n",
      "Epoch 79/150\n",
      "59/59 [==============================] - 0s 797us/step - loss: 0.1496 - accuracy: 0.9398\n",
      "Epoch 80/150\n",
      "59/59 [==============================] - 0s 814us/step - loss: 0.1483 - accuracy: 0.9404\n",
      "Epoch 81/150\n",
      "59/59 [==============================] - 0s 847us/step - loss: 0.1487 - accuracy: 0.9404\n",
      "Epoch 82/150\n",
      "59/59 [==============================] - 0s 831us/step - loss: 0.1496 - accuracy: 0.9406\n",
      "Epoch 83/150\n",
      "59/59 [==============================] - 0s 797us/step - loss: 0.1511 - accuracy: 0.9395\n",
      "Epoch 84/150\n",
      "59/59 [==============================] - 0s 797us/step - loss: 0.1476 - accuracy: 0.9405\n",
      "Epoch 85/150\n",
      "59/59 [==============================] - 0s 763us/step - loss: 0.1483 - accuracy: 0.9405\n",
      "Epoch 86/150\n",
      "59/59 [==============================] - 0s 831us/step - loss: 0.1488 - accuracy: 0.9401\n",
      "Epoch 87/150\n",
      "59/59 [==============================] - 0s 814us/step - loss: 0.1475 - accuracy: 0.9406\n",
      "Epoch 88/150\n",
      "59/59 [==============================] - 0s 814us/step - loss: 0.1476 - accuracy: 0.9413\n",
      "Epoch 89/150\n",
      "59/59 [==============================] - 0s 797us/step - loss: 0.1476 - accuracy: 0.9406\n",
      "Epoch 90/150\n",
      "59/59 [==============================] - 0s 814us/step - loss: 0.1470 - accuracy: 0.9412\n",
      "Epoch 91/150\n",
      "59/59 [==============================] - 0s 797us/step - loss: 0.1485 - accuracy: 0.9406\n",
      "Epoch 92/150\n",
      "59/59 [==============================] - 0s 797us/step - loss: 0.1466 - accuracy: 0.9411\n",
      "Epoch 93/150\n",
      "59/59 [==============================] - 0s 780us/step - loss: 0.1456 - accuracy: 0.9418\n",
      "Epoch 94/150\n",
      "59/59 [==============================] - 0s 780us/step - loss: 0.1463 - accuracy: 0.9415\n",
      "Epoch 95/150\n",
      "59/59 [==============================] - 0s 797us/step - loss: 0.1462 - accuracy: 0.9415\n",
      "Epoch 96/150\n",
      "59/59 [==============================] - 0s 780us/step - loss: 0.1457 - accuracy: 0.9417\n",
      "Epoch 97/150\n",
      "59/59 [==============================] - 0s 797us/step - loss: 0.1458 - accuracy: 0.9411\n",
      "Epoch 98/150\n",
      "59/59 [==============================] - 0s 797us/step - loss: 0.1455 - accuracy: 0.9414\n",
      "Epoch 99/150\n",
      "59/59 [==============================] - 0s 831us/step - loss: 0.1473 - accuracy: 0.9415\n",
      "Epoch 100/150\n",
      "59/59 [==============================] - 0s 797us/step - loss: 0.1445 - accuracy: 0.9420\n",
      "Epoch 101/150\n",
      "59/59 [==============================] - 0s 814us/step - loss: 0.1461 - accuracy: 0.9416\n",
      "Epoch 102/150\n",
      "59/59 [==============================] - 0s 797us/step - loss: 0.1457 - accuracy: 0.9417\n",
      "Epoch 103/150\n",
      "59/59 [==============================] - 0s 814us/step - loss: 0.1463 - accuracy: 0.9423\n",
      "Epoch 104/150\n",
      "59/59 [==============================] - 0s 814us/step - loss: 0.1451 - accuracy: 0.9419\n",
      "Epoch 105/150\n",
      "59/59 [==============================] - 0s 831us/step - loss: 0.1452 - accuracy: 0.9420\n",
      "Epoch 106/150\n",
      "59/59 [==============================] - 0s 814us/step - loss: 0.1466 - accuracy: 0.9416\n",
      "Epoch 107/150\n",
      "59/59 [==============================] - 0s 797us/step - loss: 0.1461 - accuracy: 0.9416\n",
      "Epoch 108/150\n",
      "59/59 [==============================] - 0s 814us/step - loss: 0.1466 - accuracy: 0.9416\n",
      "Epoch 109/150\n",
      "59/59 [==============================] - 0s 780us/step - loss: 0.1442 - accuracy: 0.9420\n",
      "Epoch 110/150\n",
      "59/59 [==============================] - 0s 797us/step - loss: 0.1445 - accuracy: 0.9423\n",
      "Epoch 111/150\n",
      "59/59 [==============================] - 0s 814us/step - loss: 0.1455 - accuracy: 0.9420\n",
      "Epoch 112/150\n",
      "59/59 [==============================] - 0s 797us/step - loss: 0.1455 - accuracy: 0.9419\n",
      "Epoch 113/150\n",
      "59/59 [==============================] - 0s 780us/step - loss: 0.1446 - accuracy: 0.9423\n",
      "Epoch 114/150\n",
      "59/59 [==============================] - 0s 797us/step - loss: 0.1442 - accuracy: 0.9428\n",
      "Epoch 115/150\n",
      "59/59 [==============================] - 0s 814us/step - loss: 0.1452 - accuracy: 0.9421\n",
      "Epoch 116/150\n",
      "59/59 [==============================] - 0s 814us/step - loss: 0.1446 - accuracy: 0.9419\n",
      "Epoch 117/150\n",
      "59/59 [==============================] - 0s 797us/step - loss: 0.1447 - accuracy: 0.9423\n",
      "Epoch 118/150\n",
      "59/59 [==============================] - 0s 780us/step - loss: 0.1440 - accuracy: 0.9424\n",
      "Epoch 119/150\n",
      "59/59 [==============================] - 0s 780us/step - loss: 0.1471 - accuracy: 0.9408\n",
      "Epoch 120/150\n",
      "59/59 [==============================] - 0s 797us/step - loss: 0.1455 - accuracy: 0.9426\n",
      "Epoch 121/150\n",
      "59/59 [==============================] - 0s 814us/step - loss: 0.1434 - accuracy: 0.9420\n",
      "Epoch 122/150\n",
      "59/59 [==============================] - 0s 797us/step - loss: 0.1432 - accuracy: 0.9422\n",
      "Epoch 123/150\n",
      "59/59 [==============================] - 0s 830us/step - loss: 0.1430 - accuracy: 0.9427\n",
      "Epoch 124/150\n",
      "59/59 [==============================] - 0s 763us/step - loss: 0.1430 - accuracy: 0.9425\n",
      "Epoch 125/150\n",
      "59/59 [==============================] - 0s 830us/step - loss: 0.1449 - accuracy: 0.9418\n",
      "Epoch 126/150\n",
      "59/59 [==============================] - 0s 797us/step - loss: 0.1431 - accuracy: 0.9425\n",
      "Epoch 127/150\n",
      "59/59 [==============================] - 0s 814us/step - loss: 0.1435 - accuracy: 0.9425\n",
      "Epoch 128/150\n",
      "59/59 [==============================] - 0s 780us/step - loss: 0.1455 - accuracy: 0.9418\n",
      "Epoch 129/150\n",
      "59/59 [==============================] - 0s 831us/step - loss: 0.1437 - accuracy: 0.9421\n",
      "Epoch 130/150\n",
      "59/59 [==============================] - 0s 780us/step - loss: 0.1446 - accuracy: 0.9425\n",
      "Epoch 131/150\n",
      "59/59 [==============================] - 0s 780us/step - loss: 0.1457 - accuracy: 0.9411\n",
      "Epoch 132/150\n",
      "59/59 [==============================] - 0s 797us/step - loss: 0.1428 - accuracy: 0.9426\n",
      "Epoch 133/150\n",
      "59/59 [==============================] - 0s 830us/step - loss: 0.1422 - accuracy: 0.9426\n",
      "Epoch 134/150\n",
      "59/59 [==============================] - 0s 780us/step - loss: 0.1424 - accuracy: 0.9431\n",
      "Epoch 135/150\n",
      "59/59 [==============================] - 0s 780us/step - loss: 0.1429 - accuracy: 0.9432\n",
      "Epoch 136/150\n",
      "59/59 [==============================] - 0s 830us/step - loss: 0.1419 - accuracy: 0.9424\n",
      "Epoch 137/150\n",
      "59/59 [==============================] - 0s 797us/step - loss: 0.1438 - accuracy: 0.9421\n",
      "Epoch 138/150\n",
      "59/59 [==============================] - 0s 797us/step - loss: 0.1450 - accuracy: 0.9417\n",
      "Epoch 139/150\n",
      "59/59 [==============================] - 0s 797us/step - loss: 0.1426 - accuracy: 0.9430\n",
      "Epoch 140/150\n",
      "59/59 [==============================] - 0s 814us/step - loss: 0.1419 - accuracy: 0.9425\n",
      "Epoch 141/150\n",
      "59/59 [==============================] - 0s 814us/step - loss: 0.1440 - accuracy: 0.9417\n",
      "Epoch 142/150\n",
      "59/59 [==============================] - 0s 864us/step - loss: 0.1419 - accuracy: 0.9425\n",
      "Epoch 143/150\n",
      "59/59 [==============================] - 0s 814us/step - loss: 0.1429 - accuracy: 0.9431\n",
      "Epoch 144/150\n",
      "59/59 [==============================] - 0s 797us/step - loss: 0.1413 - accuracy: 0.9433\n",
      "Epoch 145/150\n",
      "59/59 [==============================] - 0s 780us/step - loss: 0.1420 - accuracy: 0.9427\n",
      "Epoch 146/150\n",
      "59/59 [==============================] - 0s 814us/step - loss: 0.1426 - accuracy: 0.9422\n",
      "Epoch 147/150\n",
      "59/59 [==============================] - 0s 763us/step - loss: 0.1426 - accuracy: 0.9425\n",
      "Epoch 148/150\n",
      "59/59 [==============================] - 0s 814us/step - loss: 0.1416 - accuracy: 0.9425\n",
      "Epoch 149/150\n",
      "59/59 [==============================] - 0s 797us/step - loss: 0.1411 - accuracy: 0.9432\n",
      "Epoch 150/150\n",
      "59/59 [==============================] - 0s 831us/step - loss: 0.1410 - accuracy: 0.9430\n"
     ]
    }
   ],
   "source": [
    "adam = tf.keras.optimizers.Adam()\n",
    "model.compile(optimizer=adam, loss='binary_crossentropy', metrics=['accuracy'])\n",
    "\n",
    "history = model.fit(X_train, y_train, batch_size=1024, epochs=150) "
   ]
  },
  {
   "cell_type": "markdown",
   "metadata": {},
   "source": [
    "We can also plot the loss curve using the same function as above."
   ]
  },
  {
   "cell_type": "code",
   "execution_count": 19,
   "metadata": {},
   "outputs": [
    {
     "data": {
      "image/png": "[encoded data removed]",
      "text/plain": [
       "<Figure size 432x288 with 1 Axes>"
      ]
     },
     "metadata": {
      "needs_background": "light"
     },
     "output_type": "display_data"
    }
   ],
   "source": [
    "plot_costs(history.history[\"loss\"])"
   ]
  },
  {
   "cell_type": "markdown",
   "metadata": {},
   "source": [
    "The model can also be evaluated on the test set with familiar code."
   ]
  },
  {
   "cell_type": "code",
   "execution_count": 20,
   "metadata": {},
   "outputs": [
    {
     "name": "stdout",
     "output_type": "stream",
     "text": [
      "Accuracy: 0.9420\n",
      "F1: 0.6591\n"
     ]
    }
   ],
   "source": [
    "y_pred = model.predict(X_test)\n",
    "y_pred = np.array(y_pred > 0.5, dtype=int).squeeze()\n",
    "\n",
    "accuracy = accuracy_score(y_test, y_pred)\n",
    "f1 = f1_score(y_test, y_pred)\n",
    "\n",
    "print(\"Accuracy: %.4f\" % accuracy)\n",
    "print(\"F1: %.4f\" % f1)"
   ]
  }
 ],
 "metadata": {
  "kernelspec": {
   "display_name": "Python 3",
   "language": "python",
   "name": "python3"
  },
  "language_info": {
   "codemirror_mode": {
    "name": "ipython",
    "version": 3
   },
   "file_extension": ".py",
   "mimetype": "text/x-python",
   "name": "python",
   "nbconvert_exporter": "python",
   "pygments_lexer": "ipython3",
   "version": "3.8.5"
  }
 },
 "nbformat": 4,
 "nbformat_minor": 2
}
